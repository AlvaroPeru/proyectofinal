{
  "nbformat": 4,
  "nbformat_minor": 0,
  "metadata": {
    "colab": {
      "provenance": []
    },
    "kernelspec": {
      "name": "python3",
      "display_name": "Python 3"
    },
    "language_info": {
      "name": "python"
    }
  },
  "cells": [
    {
      "cell_type": "markdown",
      "source": [
        "Proyecto Final - Alvaro Oviedo"
      ],
      "metadata": {
        "id": "jML_2hS8cg3N"
      }
    },
    {
      "cell_type": "code",
      "execution_count": 1,
      "metadata": {
        "id": "4QMdQsOCQ18H"
      },
      "outputs": [],
      "source": [
        "import numpy as np"
      ]
    },
    {
      "cell_type": "code",
      "source": [
        "import pandas as pd"
      ],
      "metadata": {
        "id": "rp4u_iK2cr72"
      },
      "execution_count": 2,
      "outputs": []
    },
    {
      "cell_type": "markdown",
      "source": [
        "este notebook será utilizado para el proyecto final"
      ],
      "metadata": {
        "id": "Dl6Gsi__cyh8"
      }
    },
    {
      "cell_type": "code",
      "source": [
        "print( \"¡Hola, Proyecto Final del Curso!\")"
      ],
      "metadata": {
        "colab": {
          "base_uri": "https://localhost:8080/"
        },
        "id": "504L0goacwFT",
        "outputId": "8e28c06b-4bdb-4c6e-e6bf-426a8298e51d"
      },
      "execution_count": 4,
      "outputs": [
        {
          "output_type": "stream",
          "name": "stdout",
          "text": [
            "¡Hola, Proyecto Final del Curso!\n"
          ]
        }
      ]
    }
  ]
}